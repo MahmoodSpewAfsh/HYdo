{
 "cells": [
  {
   "cell_type": "code",
   "execution_count": 19,
   "metadata": {},
   "outputs": [
    {
     "name": "stdout",
     "output_type": "stream",
     "text": [
      "Approximate value of the double integral: 1.1249445337665036\n",
      "Error estimate: 1.2489393228137841e-14\n"
     ]
    }
   ],
   "source": [
    "#Guass quadrature double integral\n",
    "import numpy as np\n",
    "from scipy.integrate import dblquad\n",
    "\n",
    "# Define the function to be integrated\n",
    "def f(x, y):\n",
    "    if (x, y) == (2, 2):\n",
    "        return 0  # Avoid evaluating the function at the singularity\n",
    "    return 1 / np.sqrt((x +3)**2 + (y -2)**2) #we can change variables\n",
    "\n",
    "# Define the limits of integration for x and y\n",
    "x_lower = -1\n",
    "x_upper = 1\n",
    "y_lower = -1\n",
    "y_upper = 1\n",
    "\n",
    "# Perform the double integral using Gauss quadrature\n",
    "integral, error = dblquad(f, y_lower, y_upper, lambda x: x_lower, lambda x: x_upper)\n",
    "\n",
    "print(\"Approximate value of the double integral:\", integral)\n",
    "print(\"Error estimate:\", error)"
   ]
  },
  {
   "cell_type": "code",
   "execution_count": 27,
   "metadata": {},
   "outputs": [
    {
     "name": "stdout",
     "output_type": "stream",
     "text": [
      "Approximate value of the double integral: 1.1249477672363548\n",
      "Error estimate: 1.2489393228137841e-14\n"
     ]
    }
   ],
   "source": [
    "import numpy as np\n",
    "\n",
    "# Define the function to be integrated\n",
    "def f(x, y):\n",
    "    return 1 / np.sqrt((x + 3)**2 + (y - 2)**2)\n",
    "\n",
    "# Define the limits of integration for x and y\n",
    "x_lower = -1\n",
    "x_upper = 1\n",
    "y_lower = -1\n",
    "y_upper = 1\n",
    "\n",
    "# Number of intervals for trapezoidal rule\n",
    "n_x = 100  # Number of intervals along x-axis\n",
    "n_y = 100  # Number of intervals along y-axis\n",
    "\n",
    "# Step sizes for trapezoidal rule\n",
    "dx = (x_upper - x_lower) / n_x\n",
    "dy = (y_upper - y_lower) / n_y\n",
    "\n",
    "# Perform the double integral using trapezoidal rule\n",
    "integral = 0\n",
    "for i in range(n_x):\n",
    "    for j in range(n_y):\n",
    "        x0 = x_lower + i * dx\n",
    "        x1 = x0 + dx\n",
    "        y0 = y_lower + j * dy\n",
    "        y1 = y0 + dy\n",
    "        integral += 0.25 * (f(x0, y0) + f(x1, y0) + f(x0, y1) + f(x1, y1)) * dx * dy\n",
    "\n",
    "print(\"Approximate value of the double integral:\", integral)\n",
    "print(\"Error estimate:\", error)"
   ]
  },
  {
   "cell_type": "code",
   "execution_count": 32,
   "metadata": {},
   "outputs": [
    {
     "name": "stdout",
     "output_type": "stream",
     "text": [
      "Approximate value of the double integral using Midpoint Method: 1.1247829423041629\n",
      "Error estimate: 1.2489393228137841e-14\n"
     ]
    }
   ],
   "source": [
    "import numpy as np\n",
    "\n",
    "# Define the function to be integrated\n",
    "def f(x, y):\n",
    "    return 1 / np.sqrt((x + 3)**2 + (y - 2)**2)\n",
    "\n",
    "# Define the limits of integration for x and y\n",
    "x_lower = -1\n",
    "x_upper = 1\n",
    "y_lower = -1\n",
    "y_upper = 1\n",
    "\n",
    "# Number of subintervals for each axis\n",
    "n_x = 10\n",
    "n_y = 10\n",
    "\n",
    "# Step sizes for each axis\n",
    "dx = (x_upper - x_lower) / n_x\n",
    "dy = (y_upper - y_lower) / n_y\n",
    "\n",
    "# Initialize the sum for the double integral\n",
    "integral = 0\n",
    "\n",
    "# Midpoint rule for double integration\n",
    "for i in range(n_x):\n",
    "    for j in range(n_y):\n",
    "        x_midpoint = x_lower + (i + 0.5) * dx\n",
    "        y_midpoint = y_lower + (j + 0.5) * dy\n",
    "        integral += f(x_midpoint, y_midpoint) * dx * dy\n",
    "\n",
    "print(\"Approximate value of the double integral using Midpoint Method:\", integral)\n",
    "print(\"Error estimate:\", error)"
   ]
  },
  {
   "cell_type": "code",
   "execution_count": null,
   "metadata": {},
   "outputs": [],
   "source": []
  }
 ],
 "metadata": {
  "kernelspec": {
   "display_name": "Python 3",
   "language": "python",
   "name": "python3"
  },
  "language_info": {
   "codemirror_mode": {
    "name": "ipython",
    "version": 3
   },
   "file_extension": ".py",
   "mimetype": "text/x-python",
   "name": "python",
   "nbconvert_exporter": "python",
   "pygments_lexer": "ipython3",
   "version": "3.8.3"
  }
 },
 "nbformat": 4,
 "nbformat_minor": 4
}
