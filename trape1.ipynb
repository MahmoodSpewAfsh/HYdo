{
 "cells": [
  {
   "cell_type": "code",
   "execution_count": 1,
   "metadata": {},
   "outputs": [],
   "source": [
    "import numpy as np\n",
    "\n",
    "import matplotlib.pyplot as plt\n",
    "\n",
    "%matplotlib inline"
   ]
  },
  {
   "cell_type": "code",
   "execution_count": 15,
   "metadata": {},
   "outputs": [],
   "source": [
    "def trapz(f,a,b,N=50):\n",
    "\n",
    "\n",
    "\n",
    "    x = np.linspace(a,b,N+1)\n",
    "    p = np.linspace(a,b,N+1)\n",
    "    X, P = np.meshgrid(x, p)\n",
    "\n",
    "    y = f(X, P)\n",
    "\n",
    "    y_right = y[1:] # Right endpoints\n",
    "\n",
    "    y_left = y[:-1] # Left endpoints\n",
    "    print(y_left)\n",
    "    print(y_right)\n",
    "    dx = (b - a)/N\n",
    "    dp = (b - a)/N\n",
    "\n",
    "    T = (dx/2) * dp * np.sum(y_right + y_left)\n",
    "\n",
    "    return T"
   ]
  },
  {
   "cell_type": "code",
   "execution_count": 22,
   "metadata": {},
   "outputs": [
    {
     "name": "stdout",
     "output_type": "stream",
     "text": [
      "[[0.23570226 0.23571012 0.23571797 ... 0.31621512 0.31622144 0.31622777]\n",
      " [0.23571012 0.23571797 0.23572583 ... 0.31623409 0.31624041 0.31624674]\n",
      " [0.23571797 0.23572583 0.23573369 ... 0.31625306 0.31625939 0.31626572]\n",
      " ...\n",
      " [0.31620879 0.31622776 0.31624673 ... 0.7067534  0.70682404 0.70689468]\n",
      " [0.31621512 0.31623409 0.31625306 ... 0.70682405 0.70689471 0.70696537]\n",
      " [0.31622144 0.31624041 0.31625939 ... 0.70689471 0.70696539 0.70703607]]\n",
      "[[0.23571012 0.23571797 0.23572583 ... 0.31623409 0.31624041 0.31624674]\n",
      " [0.23571797 0.23572583 0.23573369 ... 0.31625306 0.31625939 0.31626572]\n",
      " [0.23572583 0.23573369 0.23574155 ... 0.31627204 0.31627837 0.3162847 ]\n",
      " ...\n",
      " [0.31621512 0.31623409 0.31625306 ... 0.70682405 0.70689471 0.70696537]\n",
      " [0.31622144 0.31624041 0.31625939 ... 0.70689471 0.70696539 0.70703607]\n",
      " [0.31622777 0.31624674 0.31626572 ... 0.70696537 0.70703607 0.70710678]]\n"
     ]
    },
    {
     "data": {
      "text/plain": [
       "1.4495439766415397"
      ]
     },
     "execution_count": 22,
     "metadata": {},
     "output_type": "execute_result"
    }
   ],
   "source": [
    "trapz(lambda x, p : ((x-2)**2+(p-2)**2)**(-1/2),-1,1,10000)"
   ]
  },
  {
   "cell_type": "code",
   "execution_count": 26,
   "metadata": {},
   "outputs": [],
   "source": [
    "from scipy.integrate import quad, dblquad"
   ]
  },
  {
   "cell_type": "code",
   "execution_count": 24,
   "metadata": {},
   "outputs": [],
   "source": [
    "def integrand(x, p):\n",
    "\treturn ((x-2)**2 + (p -2)**2)**(-1/2)"
   ]
  },
  {
   "cell_type": "code",
   "execution_count": 27,
   "metadata": {},
   "outputs": [
    {
     "data": {
      "text/plain": [
       "(1.4493948762686601, 1.6091515634071965e-14)"
      ]
     },
     "execution_count": 27,
     "metadata": {},
     "output_type": "execute_result"
    }
   ],
   "source": [
    "dblquad(integrand, -1, 1,-1,1)"
   ]
  }
 ],
 "metadata": {
  "kernelspec": {
   "display_name": "Python 3",
   "language": "python",
   "name": "python3"
  },
  "language_info": {
   "codemirror_mode": {
    "name": "ipython",
    "version": 3
   },
   "file_extension": ".py",
   "mimetype": "text/x-python",
   "name": "python",
   "nbconvert_exporter": "python",
   "pygments_lexer": "ipython3",
   "version": "3.8.10"
  }
 },
 "nbformat": 4,
 "nbformat_minor": 2
}
